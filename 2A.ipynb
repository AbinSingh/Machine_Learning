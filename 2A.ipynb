{
 "cells": [
  {
   "cell_type": "markdown",
   "metadata": {},
   "source": [
    "Table of contents:\n",
    "Python\n",
    "Basic data types\n",
    "Containers\n",
    "Lists\n",
    "Dictionaries\n",
    "Sets\n",
    "Tuples\n",
    "Functions\n",
    "Classes\n",
    "Numpy\n",
    "Arrays\n",
    "Array indexing\n",
    "Datatypes\n",
    "Array math\n",
    "Broadcasting\n",
    "SciPy\n",
    "Image operations\n",
    "MATLAB files\n",
    "Distance between points\n",
    "Matplotlib\n",
    "Plotting\n",
    "Subplots\n",
    "Images"
   ]
  },
  {
   "cell_type": "markdown",
   "metadata": {},
   "source": [
    "Basic data types\n",
    "Like most languages, Python has a number of basic types including integers, floats, booleans, and strings. These data types behave in ways that are familiar from other programming languages.\n",
    "\n",
    "Numbers: Integers and floats work as you would expect from other languages:"
   ]
  },
  {
   "cell_type": "code",
   "execution_count": 1,
   "metadata": {},
   "outputs": [
    {
     "name": "stdout",
     "output_type": "stream",
     "text": [
      "<class 'int'>\n",
      "3\n",
      "4\n",
      "2\n",
      "6\n",
      "9\n",
      "4\n",
      "8\n",
      "<class 'float'>\n",
      "2.0 3.0 4.0 4.0\n"
     ]
    }
   ],
   "source": [
    "abin = 3\n",
    "print(type(abin)) # Prints \"<class 'int'>\"\n",
    "print(abin)       # Prints \"3\"\n",
    "print(abin + 1)   # Addition; prints \"4\"\n",
    "print(abin - 1)   # Subtraction; prints \"2\"\n",
    "print(abin * 2)   # Multiplication; prints \"6\"\n",
    "print(abin ** 2)  # Exponentiation; prints \"9\"\n",
    "abin += 1\n",
    "print(abin)  # Prints \"4\"\n",
    "abin *= 2\n",
    "print(abin)  # Prints \"8\"\n",
    "w = 2.0\n",
    "print(type(w)) # Prints \"<class 'float'>\"\n",
    "print(w, w + 1, w * 2, w ** 2) # Prints \"2.0 3.0 4.0 4.0\""
   ]
  },
  {
   "cell_type": "markdown",
   "metadata": {},
   "source": [
    "Note that unlike many languages, Python does not have unary increment (x++) or decrement (x--) operators.\n",
    "\n",
    "Python also has built-in types for complex numbers; you can find all of the details in the documentation.\n",
    "\n",
    "Booleans: Python implements all of the usual operators for Boolean logic, but uses English words rather than symbols (&&, ||, etc.):"
   ]
  },
  {
   "cell_type": "code",
   "execution_count": 2,
   "metadata": {},
   "outputs": [
    {
     "name": "stdout",
     "output_type": "stream",
     "text": [
      "<class 'bool'>\n",
      "False\n",
      "True\n",
      "False\n",
      "True\n"
     ]
    }
   ],
   "source": [
    "bol_true = True\n",
    "bol_false= False\n",
    "print(type(bol_true)) # Prints \"<class 'bool'>\"\n",
    "print(bol_true and bol_false) # Logical AND; prints \"False\"\n",
    "print(bol_true or bol_false)  # Logical OR; prints \"True\"\n",
    "print(not bol_true)   # Logical NOT; prints \"False\"\n",
    "print(bol_true != bol_false)  # Logical XOR; prints \"True\""
   ]
  },
  {
   "cell_type": "code",
   "execution_count": 3,
   "metadata": {},
   "outputs": [
    {
     "name": "stdout",
     "output_type": "stream",
     "text": [
      "hi\n",
      "2\n",
      "hi buddy\n",
      "hi buddy 12\n"
     ]
    }
   ],
   "source": [
    "a = 'hi'             # String literals can use single quotes\n",
    "b = \"buddy\"    # or double quotes; it does not matter.\n",
    "print(a)       # Prints \"hello\"\n",
    "print(len(a))  # String length; prints \"5\"\n",
    "c = a + ' ' + b # String concatenation\n",
    "print(c)  # prints \"hello world\"\n",
    "d = '%s %s %d' % (a, b, 12)  # sprintf style string formatting\n",
    "print(d)  # prints \"hello world 12\""
   ]
  },
  {
   "cell_type": "code",
   "execution_count": 6,
   "metadata": {},
   "outputs": [
    {
     "name": "stdout",
     "output_type": "stream",
     "text": [
      "Abin\n",
      "ABIN\n",
      "   abin\n",
      "  abin \n",
      "abi(n Singh)\n",
      "Abin\n"
     ]
    }
   ],
   "source": [
    "name = \"abin\"\n",
    "print(name.capitalize())  # Capitalize a string; prints \"Abin\"\n",
    "print(name.upper())       # Convert a string to uppercase; prints \"ABIN\"\n",
    "print(name.rjust(7))      # Right-justify a string, padding with spaces; prints \"  abin\"\n",
    "print(name.center(7))     # Center a string, padding with spaces; prints \" abin \"\n",
    "print(name.replace('n', '(n Singh)'))  # Replace all instances of one substring with another;\n",
    "                                # prints \"abi(n Singh)\"\n",
    "print(' Abin '.strip())  # Strip leading and trailing whitespace; prints Abin"
   ]
  },
  {
   "cell_type": "markdown",
   "metadata": {},
   "source": [
    "Containers\n",
    "Python includes several built-in container types: lists, dictionaries, sets, and tuples.\n",
    "\n",
    "\n",
    "Lists\n",
    "A list is the Python equivalent of an array, but is resizeable and can contain elements of different types:"
   ]
  },
  {
   "cell_type": "code",
   "execution_count": 7,
   "metadata": {},
   "outputs": [
    {
     "name": "stdout",
     "output_type": "stream",
     "text": [
      "[1, 2, 3] 3\n",
      "3\n",
      "[1, 2, 'hi']\n",
      "[1, 2, 'hi', 'bye']\n",
      "[1, 2, 'hi'] bye\n"
     ]
    }
   ],
   "source": [
    "mylist = [1,2,3]    # Create a list\n",
    "print(mylist, mylist[2])  # Prints \"[1, 2, 3] 3\"\n",
    "print(mylist[-1])     # Negative indices count from the end of the list; prints \"3\"\n",
    "mylist[2] = 'hi'     # Lists can contain elements of different types\n",
    "print(mylist)         # Prints \"[1, 2, 'hi']\"\n",
    "mylist.append('bye')  # Add a new element to the end of the list\n",
    "print(mylist)         # Prints \"[1, 2, 'hi', 'bye']\"\n",
    "list_pop = mylist.pop()      # Remove and return the last element of the list\n",
    "print(mylist, list_pop)      # Prints \"bar [1, 2, 'hi'] bye\""
   ]
  },
  {
   "cell_type": "markdown",
   "metadata": {},
   "source": [
    "Slicing: In addition to accessing list elements one at a time, Python provides concise syntax to access sublists; this is known as slicing:"
   ]
  },
  {
   "cell_type": "code",
   "execution_count": 8,
   "metadata": {},
   "outputs": [
    {
     "name": "stdout",
     "output_type": "stream",
     "text": [
      "[0, 1, 2, 3]\n",
      "[0, 1]\n",
      "[1, 2, 3]\n",
      "[0, 1, 2]\n",
      "[0, 1, 2, 3]\n",
      "[0, 1, 2]\n",
      "[0, 1, 0, 0]\n"
     ]
    }
   ],
   "source": [
    "val = list(range(4))     # range is a built-in function that creates a list of integers\n",
    "print(val)               # Prints \"[0, 1, 2,3]\"\n",
    "print(val[0:2])          # Get a slice from index 2 to 4 (exclusive); prints \"[0,1]\"\n",
    "print(val[1:])           # Get a slice from index 2 to the end; prints \"[1, 2, 3]\"\n",
    "print(val[:3])           # Get a slice from the start to index 2 (exclusive); prints \"[0, 1,2]\"\n",
    "print(val[:])            # Get a slice of the whole list; prints \"[0, 1, 2, 3]\"\n",
    "print(val[:-1])          # Slice indices can be negative; prints \"[0, 1, 2]\"\n",
    "val[2:4] = [0, 0]        # Assign a new sublist to a slice\n",
    "print(val)               # Prints \"[0, 1, 0,0]\""
   ]
  },
  {
   "cell_type": "code",
   "execution_count": 9,
   "metadata": {},
   "outputs": [
    {
     "name": "stdout",
     "output_type": "stream",
     "text": [
      "['cat', 'dog', 'monkey']\n",
      "['cat', 'dog', 'monkey']\n",
      "['cat', 'dog', 'monkey']\n"
     ]
    }
   ],
   "source": [
    "# Loops\n",
    "ani_loop = ['cat', 'dog', 'monkey']\n",
    "for x in ani_loop:\n",
    "    print(ani_loop)"
   ]
  },
  {
   "cell_type": "code",
   "execution_count": 10,
   "metadata": {},
   "outputs": [
    {
     "name": "stdout",
     "output_type": "stream",
     "text": [
      "0 cat\n",
      "1 dog\n",
      "2 monkey\n"
     ]
    }
   ],
   "source": [
    "#If you want access to the index of each element within the body of a loop, use the built-in enumerate function:\n",
    "\n",
    "ani_loop = ['cat', 'dog', 'monkey']\n",
    "for idx,x in enumerate(ani_loop):\n",
    "    print(idx,x)"
   ]
  },
  {
   "cell_type": "code",
   "execution_count": 11,
   "metadata": {},
   "outputs": [
    {
     "name": "stdout",
     "output_type": "stream",
     "text": [
      "[0, 1, 4, 9, 16]\n"
     ]
    }
   ],
   "source": [
    "# List comprehensions\n",
    "val = [0, 1, 2, 3, 4]\n",
    "empty = []\n",
    "for x in val:\n",
    "    empty.append(x ** 2)\n",
    "print(empty)"
   ]
  },
  {
   "cell_type": "code",
   "execution_count": 12,
   "metadata": {},
   "outputs": [
    {
     "name": "stdout",
     "output_type": "stream",
     "text": [
      "[0, 1, 4]\n"
     ]
    }
   ],
   "source": [
    "values= [0, 1, 2]\n",
    "sqr = [x ** 2 for x in values]\n",
    "print(sqr)"
   ]
  },
  {
   "cell_type": "code",
   "execution_count": 13,
   "metadata": {},
   "outputs": [
    {
     "name": "stdout",
     "output_type": "stream",
     "text": [
      "[0, 4, 36, 100]\n"
     ]
    }
   ],
   "source": [
    "list_val = [0, 1, 2,6,10]\n",
    "even_nums = [x ** 2 for x in list_val if x % 2 == 0]\n",
    "print(even_nums)"
   ]
  },
  {
   "cell_type": "code",
   "execution_count": 14,
   "metadata": {},
   "outputs": [
    {
     "name": "stdout",
     "output_type": "stream",
     "text": [
      "Logistic Regression\n",
      "True\n",
      "rule\n",
      "Linear Regression\n",
      "N/A\n",
      "{'Regression': 'Linear Regression', 'tree': 'rule'}\n"
     ]
    }
   ],
   "source": [
    "# Dictionaries\n",
    "model = {'classification': 'Logistic Regression', 'Regression': 'Linear Regression'}  \n",
    "print(model['classification'])       \n",
    "print('classification' in model) \n",
    "model['tree'] = 'rule'     \n",
    "print(model['tree'])      \n",
    "print(model.get('Regression', 'N/A'))  \n",
    "print(model.get('classifcation', 'N/A')) \n",
    "del model['classification']   \n",
    "print(model)"
   ]
  },
  {
   "cell_type": "code",
   "execution_count": 3,
   "metadata": {},
   "outputs": [
    {
     "name": "stdout",
     "output_type": "stream",
     "text": [
      "{'person': 2, 'cat': 4, 'spider': 8} 2\n",
      "{'person': 2, 'cat': 4, 'spider': 8} 4\n",
      "{'person': 2, 'cat': 4, 'spider': 8} 8\n"
     ]
    }
   ],
   "source": [
    "# Loops: It is easy to iterate over the keys in a dictionary:\n",
    "        \n",
    "anim = {'person': 2, 'cat': 4, 'spider': 8}\n",
    "for ani in anim:\n",
    "    leggs = anim[ani]\n",
    "    print(anim, leggs)"
   ]
  },
  {
   "cell_type": "code",
   "execution_count": 8,
   "metadata": {},
   "outputs": [
    {
     "name": "stdout",
     "output_type": "stream",
     "text": [
      "A person has 2 legs\n",
      "A cat has 4 legs\n",
      "A spider has 8 legs\n"
     ]
    }
   ],
   "source": [
    "anim = {'person': 2, 'cat': 4, 'spider': 8}\n",
    "for ani,leggs in anim.items():\n",
    "    print('A %s has %d legs' % (ani, leggs))"
   ]
  },
  {
   "cell_type": "code",
   "execution_count": 9,
   "metadata": {},
   "outputs": [
    {
     "name": "stdout",
     "output_type": "stream",
     "text": [
      "{0: 0, 2: 4, 4: 16}\n"
     ]
    }
   ],
   "source": [
    "#Dictionary comprehensions'\n",
    "values = [0, 1, 2, 3, 4]\n",
    "even_to_square = {x: x ** 2 for x in values if x % 2 == 0}\n",
    "print(even_to_square)  # Prints \"{0: 0, 2: 4, 4: 16}\""
   ]
  },
  {
   "cell_type": "code",
   "execution_count": 10,
   "metadata": {},
   "outputs": [
    {
     "name": "stdout",
     "output_type": "stream",
     "text": [
      "True\n",
      "False\n",
      "True\n",
      "3\n",
      "3\n",
      "2\n"
     ]
    }
   ],
   "source": [
    "#Sets\n",
    "#A set is an unordered collection of distinct elements. As a simple example, consider the following:\n",
    "animal = {'cat', 'dog'}\n",
    "print('cat' in animal)   # Check if an element is in a set; prints \"True\"\n",
    "print('fish' in animal)  # prints \"False\"\n",
    "animal.add('fish')       # Add an element to a set\n",
    "print('fish' in animal)  # Prints \"True\"\n",
    "print(len(animal))       # Number of elements in a set; prints \"3\"\n",
    "animal.add('cat')        # Adding an element that is already in the set does nothing\n",
    "print(len(animal))       # Prints \"3\"\n",
    "animal.remove('cat')     # Remove an element from a set\n",
    "print(len(animal))       # Prints \"2\""
   ]
  },
  {
   "cell_type": "code",
   "execution_count": 15,
   "metadata": {},
   "outputs": [
    {
     "name": "stdout",
     "output_type": "stream",
     "text": [
      "#1: fish\n",
      "#2: cat\n",
      "#3: dog\n"
     ]
    }
   ],
   "source": [
    "# Loops: Iterating over a set has the same syntax as iterating over a list; however since sets are unordered, you cannot make assumptions about the order in which you visit the elements of the set:\n",
    "animal = {'cat', 'dog', 'fish'}\n",
    "for id, anim in enumerate(animal):\n",
    "    print('#%d: %s' % (id + 1, anim))"
   ]
  },
  {
   "cell_type": "code",
   "execution_count": 16,
   "metadata": {},
   "outputs": [
    {
     "name": "stdout",
     "output_type": "stream",
     "text": [
      "{0, 1, 2, 3, 4, 5}\n"
     ]
    }
   ],
   "source": [
    "# Set comprehensions\n",
    "\n",
    "from math import sqrt\n",
    "j = {int(sqrt(j)) for j in range(30)}\n",
    "print(j)  # Prints \"{0, 1, 2, 3, 4, 5}\""
   ]
  },
  {
   "cell_type": "code",
   "execution_count": 17,
   "metadata": {},
   "outputs": [
    {
     "name": "stdout",
     "output_type": "stream",
     "text": [
      "<class 'tuple'>\n",
      "5\n",
      "1\n"
     ]
    }
   ],
   "source": [
    "# Tuples\n",
    "# A tuple is an (immutable) ordered list of values. A tuple is in many ways similar to a list;\n",
    "# one of the most important differences is that tuples can be used as keys in dictionaries and as elements of sets, while lists cannot. Here is a trivial example:\n",
    "\n",
    "w = {(x, x + 1): x for x in range(10)}  # Create a dictionary with tuple keys\n",
    "tup = (5, 6)        # Create a tuple\n",
    "print(type(tup))    # Prints \"<class 'tuple'>\"\n",
    "print(w[tup])       # Prints \"5\"\n",
    "print(w[(1, 2)])  # Prints \"1\""
   ]
  },
  {
   "cell_type": "code",
   "execution_count": 18,
   "metadata": {},
   "outputs": [
    {
     "name": "stdout",
     "output_type": "stream",
     "text": [
      "negative\n",
      "zero\n",
      "positive\n"
     ]
    }
   ],
   "source": [
    "#Functions\n",
    "#Python functions are defined using the def keyword. For example:\n",
    "def sin(e):\n",
    "    if e > 0:\n",
    "        return 'positive'\n",
    "    elif e < 0:\n",
    "        return 'negative'\n",
    "    else:\n",
    "        return 'zero'\n",
    "\n",
    "for e in [-1, 0, 1]:\n",
    "    print(sin(e))\n",
    "# Prints \"negative\", \"zero\", \"positive\""
   ]
  },
  {
   "cell_type": "code",
   "execution_count": 19,
   "metadata": {},
   "outputs": [
    {
     "name": "stdout",
     "output_type": "stream",
     "text": [
      "Hello, abin\n",
      "HELLO, SINGH!\n"
     ]
    }
   ],
   "source": [
    "def hi(myname, loud=False):\n",
    "    if loud:\n",
    "        print('HELLO, %s!' % myname.upper())\n",
    "    else:\n",
    "        print('Hello, %s' % myname)\n",
    "\n",
    "hi('abin') # Prints \"Hello, Bob\"\n",
    "hi('singh', loud=True)  # Prints \"HELLO, FRED!\""
   ]
  },
  {
   "cell_type": "code",
   "execution_count": 20,
   "metadata": {},
   "outputs": [
    {
     "name": "stdout",
     "output_type": "stream",
     "text": [
      "Hello, abin\n",
      "HELLO, ABIN!\n"
     ]
    }
   ],
   "source": [
    "# Classes\n",
    "class Greet(object):\n",
    "\n",
    "    # Constructor\n",
    "    def __init__(self, name):\n",
    "        self.name = name  # Create an instance variable\n",
    "\n",
    "    # Instance method\n",
    "    def great(self, loud=False):\n",
    "        if loud:\n",
    "            print('HELLO, %s!' % self.name.upper())\n",
    "        else:\n",
    "            print('Hello, %s' % self.name)\n",
    "\n",
    "a = Greet('abin')  # Construct an instance of the Greeter class\n",
    "a.great()            # Call an instance method; prints \"Hello, Fred\"\n",
    "a.great(loud=True)   # Call an instance method; prints \"HELLO, FRED!\""
   ]
  },
  {
   "cell_type": "code",
   "execution_count": null,
   "metadata": {},
   "outputs": [],
   "source": [
    "# Numpy\n"
   ]
  }
 ],
 "metadata": {
  "kernelspec": {
   "display_name": "Python 3",
   "language": "python",
   "name": "python3"
  },
  "language_info": {
   "codemirror_mode": {
    "name": "ipython",
    "version": 3
   },
   "file_extension": ".py",
   "mimetype": "text/x-python",
   "name": "python",
   "nbconvert_exporter": "python",
   "pygments_lexer": "ipython3",
   "version": "3.6.5"
  }
 },
 "nbformat": 4,
 "nbformat_minor": 2
}
{
   "cell_type": "code",
   "execution_count": null,
   "metadata": {},
   "outputs": [],
   "source": [
    "import numpy as np\n",
    "\n",
    "a = np.array([1, 2, 3])   # Create a rank 1 array\n",
    "print(type(a))            # Prints \"<class 'numpy.ndarray'>\"\n",
    "print(a.shape)            # Prints \"(3,)\"\n",
    "print(a[0], a[1], a[2])   # Prints \"1 2 3\"\n",
    "a[0] = 5                  # Change an element of the array\n",
    "print(a)                  # Prints \"[5, 2, 3]\"\n",
    "\n",
    "b = np.array([[1,2,3],[4,5,6]])    # Create a rank 2 array\n",
    "print(b.shape)                     # Prints \"(2, 3)\"\n",
    "print(b[0, 0], b[0, 1], b[1, 0])   # Prints \"1 2 4\""
   ]
  },
